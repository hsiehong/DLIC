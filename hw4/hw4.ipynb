{
 "cells": [
  {
   "cell_type": "code",
   "execution_count": 1,
   "metadata": {},
   "outputs": [
    {
     "data": {
      "application/javascript": [
       "\n",
       "require(['notebook/js/codecell'], function(codecell) {\n",
       "  codecell.CodeCell.options_default.highlight_modes[\n",
       "      'magic_text/x-csrc'] = {'reg':[/^%%microblaze/]};\n",
       "  Jupyter.notebook.events.one('kernel_ready.Kernel', function(){\n",
       "      Jupyter.notebook.get_cells().map(function(cell){\n",
       "          if (cell.cell_type == 'code'){ cell.auto_highlight(); } }) ;\n",
       "  });\n",
       "});\n"
      ]
     },
     "metadata": {},
     "output_type": "display_data"
    },
    {
     "name": "stderr",
     "output_type": "stream",
     "text": [
      "/usr/local/lib/python3.6/dist-packages/pynq/pl_server/device.py:594: UserWarning: Users will not get PARAMETERS / REGISTERS information through TCL files. HWH file is recommended.\n",
      "  warnings.warn(message, UserWarning)\n"
     ]
    }
   ],
   "source": [
    "from pynq import Overlay\n",
    "axi_gpio_design = Overlay(\"./hw4.bit\")"
   ]
  },
  {
   "cell_type": "code",
   "execution_count": 2,
   "metadata": {},
   "outputs": [
    {
     "data": {
      "text/plain": [
       "{'axi_cdma_0': {'addr_range': 65536,\n",
       "  'device': <pynq.pl_server.device.XlnkDevice at 0xb02e8450>,\n",
       "  'driver': pynq.overlay.DefaultIP,\n",
       "  'fullpath': 'axi_cdma_0',\n",
       "  'gpio': {},\n",
       "  'interrupts': {},\n",
       "  'mem_id': 'SEG_axi_cdma_0_Reg',\n",
       "  'phys_addr': 2116026368,\n",
       "  'state': None,\n",
       "  'type': 'xilinx.com:ip:axi_cdma:4.1'}}"
      ]
     },
     "execution_count": 2,
     "metadata": {},
     "output_type": "execute_result"
    }
   ],
   "source": [
    "axi_gpio_design.ip_dict"
   ]
  },
  {
   "cell_type": "code",
   "execution_count": 3,
   "metadata": {},
   "outputs": [
    {
     "name": "stdout",
     "output_type": "stream",
     "text": [
      "cdma_addr : 0x7e200000\n"
     ]
    }
   ],
   "source": [
    "cdma_addr = axi_gpio_design.ip_dict['axi_cdma_0']['phys_addr']\n",
    "print(\"cdma_addr : 0x\"+format(cdma_addr,'02x'))"
   ]
  },
  {
   "cell_type": "code",
   "execution_count": 4,
   "metadata": {},
   "outputs": [],
   "source": [
    "#addr def block\n",
    "m1_addr = 0x30000000 + 0\n",
    "m2_addr = 0x30000000 + 4\n",
    "result_addr = 0x30000000 + 0xC\n",
    "\n",
    "CDMA_CRaddr = cdma_addr + 0x0\n",
    "CDMA_SAaddr = cdma_addr + 0x18\n",
    "CDMA_DAaddr = cdma_addr + 0x20\n",
    "CDMA_BTTaddr = cdma_addr + 0x28"
   ]
  },
  {
   "cell_type": "code",
   "execution_count": 5,
   "metadata": {},
   "outputs": [],
   "source": [
    "#MMIO block\n",
    "from pynq import MMIO\n",
    "\n",
    "m1 = MMIO(m1_addr)\n",
    "m2 = MMIO(m2_addr)\n",
    "result = MMIO(result_addr)\n",
    "\n",
    "CDMA_CR = MMIO(CDMA_CRaddr)\n",
    "CDMA_SA = MMIO(CDMA_SAaddr)\n",
    "CDMA_DA = MMIO(CDMA_DAaddr)\n",
    "CDMA_BTT = MMIO(CDMA_BTTaddr)"
   ]
  },
  {
   "cell_type": "code",
   "execution_count": 6,
   "metadata": {},
   "outputs": [],
   "source": [
    "#write and move to bram\n",
    "m1.write(0x0,123)\n",
    "m2.write(0x0,456)\n",
    "\n",
    "CDMA_CR.write(0x0,0x04)\n",
    "CDMA_SA.write(0x0,0x30000000)\n",
    "CDMA_DA.write(0x0,0xC0000000)\n",
    "CDMA_BTT.write(0x0,8) #m1 and m2"
   ]
  },
  {
   "cell_type": "code",
   "execution_count": 7,
   "metadata": {},
   "outputs": [],
   "source": [
    "#move to pynq\n",
    "CDMA_CR.write(0x0,0x04)\n",
    "CDMA_SA.write(0x0,0xC0000000)\n",
    "CDMA_DA.write(0x0,0x30000000)\n",
    "CDMA_BTT.write(0x0,16) #m1, m2, and result"
   ]
  },
  {
   "cell_type": "code",
   "execution_count": 8,
   "metadata": {},
   "outputs": [
    {
     "name": "stdout",
     "output_type": "stream",
     "text": [
      "123\n",
      "456\n",
      "56088\n"
     ]
    }
   ],
   "source": [
    "#result\n",
    "print(m1.read())\n",
    "print(m2.read())\n",
    "print(result.read())"
   ]
  },
  {
   "cell_type": "code",
   "execution_count": null,
   "metadata": {},
   "outputs": [],
   "source": []
  }
 ],
 "metadata": {
  "kernelspec": {
   "display_name": "Python 3",
   "language": "python",
   "name": "python3"
  },
  "language_info": {
   "codemirror_mode": {
    "name": "ipython",
    "version": 3
   },
   "file_extension": ".py",
   "mimetype": "text/x-python",
   "name": "python",
   "nbconvert_exporter": "python",
   "pygments_lexer": "ipython3",
   "version": "3.6.5"
  }
 },
 "nbformat": 4,
 "nbformat_minor": 2
}
